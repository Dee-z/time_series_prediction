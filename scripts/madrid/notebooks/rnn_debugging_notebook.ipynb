{
 "cells": [
  {
   "cell_type": "code",
   "execution_count": 1,
   "metadata": {},
   "outputs": [],
   "source": [
    "import os\n",
    "import numpy as np\n",
    "import pandas as pd\n",
    "from joblib import dump, load\n",
    "import sys\n",
    "import seaborn as sns\n",
    "import json\n",
    "sys.path.append(os.path.join(os.path.abspath('../'), 'predictions_collapsed'))\n",
    "sys.path.append(os.path.join(os.path.abspath('../'), 'src'))\n",
    "import matplotlib.pyplot as plt\n",
    "from matplotlib.pyplot import cm\n",
    "import torch\n",
    "import skorch\n",
    "import glob\n",
    "\n",
    "\n",
    "from config_loader import (\n",
    "    D_CONFIG,\n",
    "    DATASET_SITE_PATH, DATASET_SPLIT_PATH,\n",
    "    DATASET_FEAT_PER_TSLICE_PATH,\n",
    "    PROJECT_REPO_DIR, PROJECT_CONDA_ENV_YAML,\n",
    "    RESULTS_SPLIT_PATH, RESULTS_FEAT_PER_TSTEP_PATH)\n",
    "\n",
    "sys.path.append(os.path.join(PROJECT_REPO_DIR, 'src'))\n",
    "sys.path.append(os.path.join(PROJECT_REPO_DIR, 'src', 'rnn'))\n",
    "from feature_transformation import *\n",
    "from filter_admissions_by_tslice import get_preprocessed_data\n",
    "from merge_features_all_tslices import merge_data_dicts, get_all_features_data\n",
    "import matplotlib.pyplot as plt\n",
    "from sklearn.metrics import (accuracy_score, balanced_accuracy_score, f1_score,\n",
    "                             average_precision_score, confusion_matrix, log_loss,\n",
    "                             roc_auc_score, roc_curve, precision_recall_curve)\n",
    "from utils import load_data_dict_json\n",
    "from dataset_loader import TidySequentialDataCSVLoader\n",
    "from RNNBinaryClassifier import RNNBinaryClassifier\n",
    "from sklearn.model_selection import GridSearchCV\n",
    "RESULTS_FEAT_PER_TSTEP_PATH = os.path.join(RESULTS_FEAT_PER_TSTEP_PATH, 'rnn')\n",
    "CLF_TRAIN_TEST_SPLIT_PATH=os.path.join(DATASET_FEAT_PER_TSLICE_PATH, 'classifier_train_test_split')"
   ]
  },
  {
   "cell_type": "markdown",
   "metadata": {},
   "source": [
    "## Get the labs, vitals and static features from all hospital admissions\n",
    "- Merge the labs, vitals and demographics into a giant feature dataframe\n",
    "\n",
    "## Split them into train and test\n",
    "- Use split_dataset.py\n",
    "\n",
    "## Read the features into the RNN Binary Classifier \n",
    "- Use the dataset_loader.py in time-series-prediction/src/rnn/ to load the data with different time-lengths for rnn train and test\n",
    "\n",
    "## Train classifier with RNN\n"
   ]
  },
  {
   "cell_type": "code",
   "execution_count": null,
   "metadata": {},
   "outputs": [],
   "source": [
    "labs_df, labs_data_dict, vitals_df, vitals_data_dict, \\\n",
    "    demographics_df, demographics_data_dict, outcomes_df, outcomes_data_dict = get_preprocessed_data(DATASET_STD_PATH)\n",
    "features_df,features_data_dict = get_all_features_data(labs_df, labs_data_dict, \n",
    "                                                        vitals_df, vitals_data_dict, \n",
    "                                                        demographics_df, demographics_data_dict)\n",
    "\n",
    "\n",
    "feature_cols = parse_feature_cols(features_data_dict)\n",
    "id_cols = parse_id_cols(features_data_dict)\n",
    "time_col = parse_time_col(features_data_dict)\n",
    "## impute values\n",
    "features_df = features_df.groupby(id_cols).apply(lambda x: x.fillna(method='pad')).copy()\n",
    "for feature_col in feature_cols:\n",
    "    features_df[feature_col].fillna(features_df[feature_col].mean(), inplace=True)\n",
    "\n",
    "# sort by ids and timestamp\n",
    "features_df.sort_values(by=id_cols+[time_col], inplace=True)\n",
    "outcomes_df.sort_values(by=id_cols, inplace=True)\n",
    "\n",
    "x_csv_filename = os.path.join(DATASET_SPLIT_PATH, 'x_train.csv')\n",
    "x_data_dict_filename = os.path.join(DATASET_SPLIT_PATH, 'x_dict.json')\n",
    "features_df.to_csv(x_csv_filename, index=False)    \n",
    "\n",
    "# with open(x_data_dict_filename, 'w') as f:\n",
    "#     json.dump(features_data_dict, f, indent=4)\n",
    "\n",
    "\n",
    "y_csv_filename = os.path.join(DATASET_SPLIT_PATH, 'y_train.csv')\n",
    "y_data_dict_filename = os.path.join(DATASET_SPLIT_PATH, 'y_dict.json')\n",
    "outcomes_df.to_csv(y_csv_filename, index=False)    \n",
    "\n",
    "# with open(y_data_dict_filename, 'w') as f:\n",
    "#     json.dump(outcomes_data_dict, f, indent=4)"
   ]
  },
  {
   "cell_type": "code",
   "execution_count": null,
   "metadata": {},
   "outputs": [],
   "source": [
    "train_vitals = TidySequentialDataCSVLoader(\n",
    "    x_csv_path=x_csv_filename,\n",
    "    y_csv_path=y_csv_filename,\n",
    "    x_col_names=feature_cols,\n",
    "    idx_col_names=id_cols,\n",
    "    y_col_name='clinical_deterioration_outcome',\n",
    "    y_label_type='per_sequence'\n",
    ")\n",
    "\n",
    "X_train, y_train = train_vitals.get_batch_data(batch_id=0)"
   ]
  },
  {
   "cell_type": "code",
   "execution_count": null,
   "metadata": {},
   "outputs": [],
   "source": [
    "learning_rate = [0.0001, 0.001, 0.01, 0.1, 1]\n",
    "hyperparameters = dict(lr=learning_rate)\n",
    "\n",
    "# grid search\n",
    "rnn = RNNBinaryClassifier(\n",
    "    max_epochs=10,\n",
    "    batch_size=1024,\n",
    "    device='cpu',\n",
    "    lr=0.001,\n",
    "    callbacks=[\n",
    "            skorch.callbacks.EpochScoring('roc_auc', lower_is_better=False, on_train=True, name='aucroc_score_train'),\n",
    "            skorch.callbacks.EpochScoring('roc_auc', lower_is_better=False, on_train=False, name='aucroc_score_valid'),\n",
    "    ],\n",
    "    module__rnn_type='LSTM',\n",
    "    module__n_inputs=X_train.shape[-1],\n",
    "    module__n_hiddens=32,\n",
    "    module__n_layers=2,\n",
    "    optimizer=torch.optim.Adam)\n",
    "\n",
    "# classifier = GridSearchCV(rnn, hyperparameters, n_jobs=-1, cv=5, verbose=10)\n",
    "clf = rnn.fit(X_train, y_train)"
   ]
  },
  {
   "cell_type": "code",
   "execution_count": null,
   "metadata": {},
   "outputs": [],
   "source": []
  },
  {
   "cell_type": "code",
   "execution_count": null,
   "metadata": {},
   "outputs": [],
   "source": [
    "features_df"
   ]
  },
  {
   "cell_type": "markdown",
   "metadata": {
    "scrolled": true
   },
   "source": [
    "## Evaluate RNN performance"
   ]
  },
  {
   "cell_type": "markdown",
   "metadata": {},
   "source": [
    "- load the saved RNN models\n",
    "\n",
    "- Get the test tslice data from all the folders\n",
    "\n",
    "- Use dataset_loader and impute missing values to first impute and then load the padded sequences\n",
    "\n",
    "- Test on sequences"
   ]
  },
  {
   "cell_type": "code",
   "execution_count": null,
   "metadata": {},
   "outputs": [],
   "source": [
    "OUTCOME_COLUMN_NAME = 'clinical_deterioration_outcome'\n",
    "evaluation_tslices = D_CONFIG['EVALUATE_TIMESLICE_LIST']\n",
    "\n",
    "## get the test patient id's\n",
    "# get the test set's csv and dict\n",
    "y_test_df = pd.read_csv(os.path.join(CLF_TRAIN_TEST_SPLIT_PATH, 'y_test.csv'))\n",
    "y_test_dict_file = os.path.join(CLF_TRAIN_TEST_SPLIT_PATH, 'y_dict.json')\n",
    "\n",
    "# import the y dict to get the id cols\n",
    "y_test_dict = load_data_dict_json(y_test_dict_file)\n",
    "id_cols = parse_id_cols(y_test_dict)\n",
    "\n",
    "tslice_folders = os.path.join(DATASET_FEAT_PER_TSLICE_PATH, 'TSLICE=')\n",
    "outcome_col_name = OUTCOME_COLUMN_NAME\n",
    "tslices_list = evaluation_tslices\n",
    "y_test_ids_df = y_test_df[id_cols].drop_duplicates(subset=id_cols).reset_index(drop=True)\n",
    "\n",
    "# get demographics csv and data_dict\n",
    "# for each patient get their vitals, labs, demographics\n",
    "_,labs_data_dict,_,vitals_data_dict, _, demographics_data_dict,_,_ = get_preprocessed_data(DATASET_SITE_PATH)\n",
    "time_col = parse_time_col(vitals_data_dict)\n",
    "\n",
    "# prctile_vals = [5, 50, 95]\n",
    "# random_seed_list = args.random_seed_list.split(' ')\n",
    "# perf_df = pd.DataFrame()\n",
    "\n",
    "# load classifier\n",
    "rnn = RNNBinaryClassifier(module__rnn_type='LSTM',\n",
    "                      module__n_layers=1,\n",
    "                      module__n_hiddens=128,\n",
    "                      module__n_inputs=X_test.shape[-1])\n",
    "rnn.initialize()\n",
    "rnn.load_params(f_params=os.path.join(RESULTS_FEAT_PER_TSTEP_PATH,\n",
    "                                  'hiddens=128-layers=1-lr=0.0025-dropout=0-weight_decay=0.0001params.pt'),\n",
    "            f_optimizer=os.path.join(RESULTS_FEAT_PER_TSTEP_PATH,\n",
    "                                     'hiddens=128-layers=1-lr=0.0025-dropout=0-weight_decay=0.0001optimizer.pt'),\n",
    "            f_history=os.path.join(RESULTS_FEAT_PER_TSTEP_PATH,\n",
    "                                   'hiddens=128-layers=1-lr=0.0025-dropout=0-weight_decay=0.0001history.json'))\n",
    "\n",
    "# predict on each tslice\n",
    "for p, tslice in enumerate(tslices_list):\n",
    "    tslice_folder = tslice_folders + tslice\n",
    "    # get test set labs and vitals\n",
    "    vitals_df = pd.read_csv(os.path.join(tslice_folder, 'vitals_before_icu_filtered_%s_hours.csv'%tslice))\n",
    "    labs_df = pd.read_csv(os.path.join(tslice_folder, 'labs_before_icu_filtered_%s_hours.csv'%tslice))\n",
    "    demographics_df = pd.read_csv(os.path.join(tslice_folder, 'demographics_before_icu_filtered_%s_hours.csv'%tslice))\n",
    "    outcomes_df = pd.read_csv(os.path.join(tslice_folder,\n",
    "                                           'clinical_deterioration_outcomes_filtered_%s_hours.csv'%tslice))\n",
    "    test_vitals_df = pd.merge(vitals_df, y_test_ids_df, on=id_cols)\n",
    "    test_labs_df = pd.merge(labs_df, y_test_ids_df, on=id_cols)\n",
    "    test_demographics_df = pd.merge(demographics_df, y_test_ids_df, on=id_cols)\n",
    "\n",
    "    # merge the labs, vitals and demographics to get a single features table\n",
    "    test_features_df,test_features_dict = get_all_features_data(test_labs_df, labs_data_dict, \n",
    "                                                        test_vitals_df, vitals_data_dict, \n",
    "                                                        test_demographics_df, demographics_data_dict)\n",
    "\n",
    "\n",
    "    test_outcomes_df = pd.merge(outcomes_df, y_test_ids_df, on=id_cols, how='inner')\n",
    "    \n",
    "    test_features_df.sort_values(by=id_cols+[time_col], inplace=True)\n",
    "    test_outcomes_df.sort_values(by=id_cols, inplace=True)\n",
    "    \n",
    "    # impute missing values in the test features\n",
    "    test_features_df = test_features_df.groupby(id_cols).apply(lambda x: x.fillna(method='pad')).copy()\n",
    "    feature_cols = parse_feature_cols(test_features_dict)\n",
    "    \n",
    "    for feature_col in feature_cols:\n",
    "        test_features_df[feature_col].fillna(test_features_df[feature_col].mean(), inplace=True)    \n",
    "    \n",
    "    # load test data with TidySequentialDataLoader\n",
    "    test_vitals = TidySequentialDataCSVLoader(\n",
    "        x_csv_path=test_features_df,\n",
    "        y_csv_path=test_outcomes_df,\n",
    "        x_col_names=feature_cols,\n",
    "        idx_col_names=id_cols,\n",
    "        y_col_name=outcome_col_name,\n",
    "        y_label_type='per_sequence'\n",
    "    )    \n",
    "    \n",
    "    # load the classifier\n",
    "    X_test, y_test = test_vitals.get_batch_data(batch_id=0)\n",
    "    y_pred_proba = rnn.predict_proba(X_test)\n",
    "    y_pred_proba_neg, y_pred_proba_pos = zip(*y_pred_proba)\n",
    "    auroc_test_final = roc_auc_score(y_test, y_pred_proba_pos)\n",
    "    print('tslice: %s, auroc_test : %.2f'%(tslice, auroc_test_final))\n",
    "    \n",
    "    \n",
    "    \n",
    "   \n"
   ]
  },
  {
   "cell_type": "markdown",
   "metadata": {},
   "source": [
    "## Plot loss curves"
   ]
  },
  {
   "cell_type": "code",
   "execution_count": 14,
   "metadata": {},
   "outputs": [],
   "source": [
    "rnn_hist_json = os.path.join(RESULTS_FEAT_PER_TSTEP_PATH, \n",
    "                         'hiddens=128-layers=2-lr=0.0025-dropout=0-weight_decay=0.0001history.json')\n",
    "\n",
    "with open(rnn_hist_json, 'r') as f:\n",
    "    rnn_dict = json.load(f)\n",
    "epochs=[i['epoch'] for i in rnn_dict[:-1]]\n",
    "train_loss = [i['train_loss'] for i in rnn_dict[:-1]]\n",
    "valid_loss = [i['valid_loss'] for i in rnn_dict[:-1]]\n",
    "aucroc_score_train = [i['aucroc_score_train'] for i in rnn_dict[:-1]]\n",
    "aucroc_score_valid = [i['aucroc_score_valid'] for i in rnn_dict[:-1]]"
   ]
  },
  {
   "cell_type": "code",
   "execution_count": 27,
   "metadata": {},
   "outputs": [
    {
     "data": {
      "image/png": "[encoded data removed]",
      "text/plain": [
       "<Figure size 864x720 with 2 Axes>"
      ]
     },
     "metadata": {
      "needs_background": "light"
     },
     "output_type": "display_data"
    }
   ],
   "source": [
    "f, axs = plt.subplots(2,1,figsize=(12,10), sharex=True)\n",
    "plt.rcParams.update({'font.size': 12})\n",
    "axs[0].plot(epochs, train_loss, 'b', label='train')\n",
    "axs[0].plot(epochs, valid_loss, 'r', label='valid')\n",
    "axs[0].set_xlabel('Epochs')\n",
    "axs[0].set_ylabel('Loss')\n",
    "axs[0].legend()\n",
    "axs[1].plot(epochs, aucroc_score_train, 'b')\n",
    "axs[1].plot(epochs, aucroc_score_valid, 'r')\n",
    "axs[1].set_xlabel('Epochs')\n",
    "axs[1].set_ylabel('AUROC')\n",
    "axs[0].set_title('Hidden units=128, Hidden layers=2, Weight decay=0.0001, Learning Rate=0.0025, Optimizer=Adam')\n",
    "plt.show()\n",
    "\n"
   ]
  },
  {
   "cell_type": "code",
   "execution_count": 18,
   "metadata": {},
   "outputs": [
    {
     "data": {
      "text/plain": [
       "<function matplotlib.pyplot.rc(group, **kwargs)>"
      ]
     },
     "execution_count": 18,
     "metadata": {},
     "output_type": "execute_result"
    }
   ],
   "source": [
    "plt.rc"
   ]
  },
  {
   "cell_type": "code",
   "execution_count": null,
   "metadata": {},
   "outputs": [],
   "source": []
  },
  {
   "cell_type": "code",
   "execution_count": null,
   "metadata": {},
   "outputs": [],
   "source": []
  },
  {
   "cell_type": "code",
   "execution_count": null,
   "metadata": {},
   "outputs": [],
   "source": []
  }
 ],
 "metadata": {
  "kernelspec": {
   "display_name": "Python 3",
   "language": "python",
   "name": "python3"
  },
  "language_info": {
   "codemirror_mode": {
    "name": "ipython",
    "version": 3
   },
   "file_extension": ".py",
   "mimetype": "text/x-python",
   "name": "python",
   "nbconvert_exporter": "python",
   "pygments_lexer": "ipython3",
   "version": "3.8.2"
  }
 },
 "nbformat": 4,
 "nbformat_minor": 4
}
